{
 "cells": [
  {
   "cell_type": "markdown",
   "metadata": {},
   "source": [
    "## Biomarker test\n",
    "Certain biomarkers are known to be correlated with the drug response. This notebook investigates such behaviors. First, we predict the drug response using our domain-adapted regression model. Then we correlate this drug response to the biomarker activity, be it mutation or copy number alteration.\n",
    "<br/>\n",
    "We also provide a comparison of correlation with two other pipelines:\n",
    "<ul>\n",
    "    <li> Without using anything. Ridge regression model (or ElasticNet) is directly transferred to the tumors\n",
    "    <li> Using ComBat and considering cell lines, PDX and tumors as two batches. Transcriptomics data is corrected using ComBat. Then the Ridge regression model is directly applied to human tumors.\n",
    "</ul>\n",
    "ComBat implementation used comes from: <a href=\"https://github.com/brentp/combat.py\">https://github.com/brentp/combat.py</a>"
   ]
  },
  {
   "cell_type": "code",
   "execution_count": null,
   "metadata": {},
   "outputs": [],
   "source": [
    "tumor_surname = 'Breast'\n",
    "cell_line_type = 'BRCA'\n",
    "drug_id = 119\n",
    "\n",
    "normalization = 'TMM'\n",
    "transformation = 'log'\n",
    "mean_center = True\n",
    "std_unit = False\n",
    "filter_mytochondrial = False\n",
    "protein_coding_only = True"
   ]
  },
  {
   "cell_type": "code",
   "execution_count": null,
   "metadata": {},
   "outputs": [],
   "source": [
    "import sys, os\n",
    "import seaborn as sns\n",
    "import matplotlib.pyplot as plt\n",
    "import numpy as np\n",
    "import scipy\n",
    "from time import time\n",
    "import pandas as pd\n",
    "from sklearn.pipeline import Pipeline\n",
    "from sklearn.model_selection import GridSearchCV\n",
    "from sklearn.preprocessing import StandardScaler\n",
    "from sklearn.linear_model import ElasticNet, Ridge\n",
    "from sklearn.externals.joblib import Parallel, delayed\n",
    "from sklearn.decomposition import PCA\n",
    "plt.style.use('ggplot')\n",
    "\n",
    "os.environ['OMP_NUM_THREADS'] = '1'\n",
    "os.environ['KMP_DUPLICATE_LIB_OK']='True'\n",
    "\n",
    "import precise\n",
    "from data_reader.read_data import read_data\n",
    "from data_reader.read_drug_response import read_drug_response\n",
    "from data_reader.read_cna_tumors import read_cna_tumors\n",
    "from data_reader.read_mutations_tumors import read_mutations_tumors\n",
    "from data_reader.read_translocations_tumors import read_translocations_tumors\n",
    "from normalization_methods.feature_engineering import feature_engineering\n",
    "from precise import DrugResponsePredictor, IntermediateFactors\n",
    "\n",
    "sys.path.insert(0, './combat/')\n",
    "from combat import combat\n",
    "\n",
    "sys.path.insert(0, './statannot/')\n",
    "from statannot.statannot import add_stat_annotation"
   ]
  },
  {
   "cell_type": "markdown",
   "metadata": {},
   "source": [
    "## Data import"
   ]
  },
  {
   "cell_type": "code",
   "execution_count": null,
   "metadata": {},
   "outputs": [],
   "source": [
    "# Genomic data\n",
    "X_target_raw, X_source_raw, gene_names, source_sample_names, tumor_barcodes = read_data('cell_line',\n",
    "                                                                                    'tumor',\n",
    "                                                                                    'count',\n",
    "                                                                                    cell_line_type if cell_line_type != 'All' else None,\n",
    "                                                                                    tumor_surname,\n",
    "                                                                                    filter_mytochondrial)\n",
    "\n",
    "_, X_source_all_raw, gene_names, all_source_sample_names, _ = read_data('cell_line',\n",
    "                                                                        'tumor',\n",
    "                                                                        'count',\n",
    "                                                                        None,\n",
    "                                                                        tumor_surname,\n",
    "                                                                        filter_mytochondrial)"
   ]
  },
  {
   "cell_type": "markdown",
   "metadata": {},
   "source": [
    "### Library size normalization"
   ]
  },
  {
   "cell_type": "code",
   "execution_count": null,
   "metadata": {},
   "outputs": [],
   "source": [
    "# Normalisation\n",
    "X_target = feature_engineering(X_target_raw, normalization, transformation, True, False)\n",
    "X_source = feature_engineering(X_source_raw, normalization, transformation, True, False)\n",
    "X_source_all = feature_engineering(X_source_all_raw, normalization, transformation, True, False)"
   ]
  },
  {
   "cell_type": "code",
   "execution_count": null,
   "metadata": {},
   "outputs": [],
   "source": [
    "## Normalize for total variance\n",
    "total_variance = 10**3\n",
    "\n",
    "target_total_variance = np.sqrt(np.sum(np.var(X_target, 0)))\n",
    "X_target = X_target / target_total_variance\n",
    "X_target *= total_variance\n",
    "\n",
    "source_total_variance = np.sqrt(np.sum(np.var(X_source, 0)))\n",
    "X_source = X_source / source_total_variance\n",
    "X_source *= total_variance\n",
    "\n",
    "source_all_total_variance = np.sqrt(np.sum(np.var(X_source_all, 0)))\n",
    "X_source_all = X_source_all / source_total_variance\n",
    "X_source_all *= total_variance"
   ]
  },
  {
   "cell_type": "code",
   "execution_count": null,
   "metadata": {},
   "outputs": [],
   "source": [
    "# Drug response\n",
    "X_source_response, y_source, response_sample_names , name = read_drug_response(drug_id,\n",
    "                                                                               X_source_all,\n",
    "                                                                               all_source_sample_names,\n",
    "                                                                              'count')\n",
    "print(name)"
   ]
  },
  {
   "cell_type": "code",
   "execution_count": null,
   "metadata": {},
   "outputs": [],
   "source": [
    "# Filter data\n",
    "target_data = X_target\n",
    "source_data = X_source_all[np.where(~np.isin(source_sample_names,response_sample_names))]"
   ]
  },
  {
   "cell_type": "markdown",
   "metadata": {},
   "source": [
    "## Train regression model"
   ]
  },
  {
   "cell_type": "markdown",
   "metadata": {},
   "source": [
    "### Domain-adapted method"
   ]
  },
  {
   "cell_type": "code",
   "execution_count": null,
   "metadata": {},
   "outputs": [],
   "source": [
    "regression_type = 'consensus'\n",
    "n_samples = 100\n",
    "n_pv = 40\n",
    "n_factors = 70\n",
    "\n",
    "predictor = DrugResponsePredictor(source_data=source_data, method=regression_type, n_representations=n_samples,\\\n",
    "                                l1_ratio=0., target_data=target_data, n_pv=n_pv, n_factors=n_factors,\\\n",
    "                                n_jobs=10, mean_center=mean_center, std_unit=std_unit, dim_reduction='pca', dim_reduction_target='pca')\n",
    "predictor.alpha_values = list(np.logspace(-7,7,20))\n",
    "predictor.cv_fold = 10\n",
    "predictor.verbose = 5\n",
    "predictor.fit(X_source_response, y_source, use_data=True)\n",
    "\n",
    "#predictor.compute_predictive_performance(X_source_response, y_source)"
   ]
  },
  {
   "cell_type": "markdown",
   "metadata": {},
   "source": [
    "### Ridge regression on raw data"
   ]
  },
  {
   "cell_type": "code",
   "execution_count": null,
   "metadata": {},
   "outputs": [],
   "source": [
    "#Parameters for the grid search\n",
    "alpha_values = np.logspace(-10,10,30)\n",
    "param_grid ={\n",
    "    'regression__alpha': alpha_values\n",
    "}\n",
    "\n",
    "#Grid search setup\n",
    "\n",
    "grid_en = GridSearchCV(Pipeline([\n",
    "                        ('normalization', StandardScaler(with_mean=mean_center, with_std=False)),\n",
    "                        ('regression', Ridge())\n",
    "                    ]),\\\n",
    "                    cv=10, n_jobs=30, param_grid=param_grid, verbose=1, scoring='neg_mean_squared_error')\n",
    "\n",
    "#Fit grid search\n",
    "grid_en.fit(X_source_response, y_source)"
   ]
  },
  {
   "cell_type": "markdown",
   "metadata": {},
   "source": [
    "### ComBat as domain adaptation"
   ]
  },
  {
   "cell_type": "code",
   "execution_count": null,
   "metadata": {},
   "outputs": [],
   "source": [
    "X_total = np.concatenate([X_target, X_source_all])\n",
    "\n",
    "# Filter genes to remove the potential 0: remain conservative\n",
    "gene_variance = np.var(X_total, 0)\n",
    "gene_variance = np.argsort(gene_variance)[::-1]\n",
    "list_genes = gene_variance[:15000]\n",
    "X_total = X_total[:, list_genes]\n",
    "\n",
    "# Combat normalization\n",
    "a = [0]*X_target.shape[0] + [1]*X_source_all.shape[0]\n",
    "batch = pd.Series(a)\n",
    "batch.index = np.concatenate([tumor_barcodes, all_source_sample_names])\n",
    "\n",
    "data = pd.DataFrame(X_total.transpose().astype(int))\n",
    "data.columns = np.concatenate([tumor_barcodes, all_source_sample_names])\n",
    "data.index = gene_names[list_genes]\n",
    "\n",
    "batch_corrected_data = combat.combat(data, batch=batch)\n",
    "X_target_corrected = np.array(batch_corrected_data)[:,:X_target.shape[0]].transpose()\n",
    "X_source_corrected = np.array(batch_corrected_data)[:,X_target.shape[0]:].transpose()\n",
    "X_source_response_corrected = X_source_corrected[np.where(np.isin(all_source_sample_names, response_sample_names))]"
   ]
  },
  {
   "cell_type": "code",
   "execution_count": null,
   "metadata": {},
   "outputs": [],
   "source": [
    "#Parameters for the grid search\n",
    "alpha_values = np.logspace(-1,8,20)\n",
    "param_grid ={\n",
    "    'regression__alpha': alpha_values\n",
    "}\n",
    "\n",
    "#Grid search setup\n",
    "\n",
    "grid_combat = GridSearchCV(Pipeline([\n",
    "                        ('normalization', StandardScaler(with_mean=mean_center, with_std=std_unit)),\n",
    "                        ('regression', Ridge())\n",
    "                    ]),\\\n",
    "                    cv=10, n_jobs=20, param_grid=param_grid, verbose=1, scoring='neg_mean_squared_error')\n",
    "\n",
    "#Fit grid search\n",
    "grid_combat.fit(X_source_response_corrected, y_source)"
   ]
  },
  {
   "cell_type": "markdown",
   "metadata": {},
   "source": [
    "## Biomarker test"
   ]
  },
  {
   "cell_type": "code",
   "execution_count": null,
   "metadata": {},
   "outputs": [],
   "source": [
    "df = pd.DataFrame(tumor_barcodes, columns=['NAME'])"
   ]
  },
  {
   "cell_type": "markdown",
   "metadata": {},
   "source": [
    "### Read data\n",
    "#### For CNA"
   ]
  },
  {
   "cell_type": "code",
   "execution_count": null,
   "metadata": {},
   "outputs": [],
   "source": [
    "gene_name = 'ERBB2'\n",
    "allele = None\n",
    "data_location = './data/biomarkers/tcga_%s/data.txt'%(tumor_surname.lower())\n",
    "cna_tumors = read_cna_tumors(gene_name, tumor_barcodes, data_location)\n",
    "\n",
    "# /!!\\\\ TO CHANGE\n",
    "data_location_linear = './data/biomarkers/tcga_%s/data_linear_CNA.txt'%(tumor_surname.lower())\n",
    "cna_tumors_linear = read_cna_tumors(gene_name, tumor_barcodes, data_location_linear)\n",
    "\n",
    "biomarkers_discrete = cna_tumors\n",
    "biomarkers_continuous = cna_tumors_linear\n",
    "\n",
    "biomarkers_discrete = biomarkers_discrete.astype(int).astype(str)\n",
    "# /!!\\\\ TO CHANGE (magnitude of CNA)\n",
    "biomarkers_discrete[~np.isin(biomarkers_discrete, np.arange(-1,4).astype(str))] = 'na'\n",
    "\n",
    "df['CNN_discrete'] = biomarkers_discrete\n",
    "df['CNN_continuous'] = biomarkers_continuous"
   ]
  },
  {
   "cell_type": "markdown",
   "metadata": {},
   "source": [
    "#### For mutations data"
   ]
  },
  {
   "cell_type": "code",
   "execution_count": null,
   "metadata": {},
   "outputs": [],
   "source": [
    "gene_name = 'BRCA1'\n",
    "allele = ''\n",
    "data_location = './data/biomarkers/tcga_%s/%s_mutation_status.csv'\\\n",
    "                %(tumor_surname.lower(), gene_name)\n",
    "detail_data_location = './data/biomarkers/tcga_%s/%s_mutation_detailed.csv'\\\n",
    "                %(tumor_surname.lower(), gene_name)\n",
    "mutations_tumors = read_mutations_tumors(gene_name, tumor_barcodes, data_location, detail_data_location)\n",
    "\n",
    "if allele != '':\n",
    "    mutations_tumors = [e if allele not in e else allele for e in mutations_tumors]\n",
    "\n",
    "biomarkers_discrete = np.copy(mutations_tumors)\n",
    "biomarkers_continuous = np.copy(mutations_tumors)\n",
    "biomarkers_continuous[np.where(mutations_tumors == '-1.0')] = 'na'\n",
    "biomarkers_discrete[np.where(mutations_tumors == '-1.0')] = 'na'\n",
    "\n",
    "if allele == '':\n",
    "    biomarkers_continuous[~np.isin(biomarkers_continuous, ['na', '0.0'])] = ''\n",
    "    biomarkers_discrete[~np.isin(biomarkers_discrete, ['na', '0.0'])] = 'MT'\n",
    "    biomarkers_discrete[np.isin(biomarkers_discrete, ['na', '0.0'])] = 'WT'\n",
    "else:\n",
    "    biomarkers_discrete = np.array([e for e in biomarkers_discrete])\n",
    "    biomarkers_discrete = np.array(['WT' if e == '0.0' else \\\n",
    "                           (allele if e == allele else\\\n",
    "                            (e if e == 'na' else 'MT')) for e in biomarkers_discrete])\n",
    "    biomarkers_continuous = np.array([e[:len(allele)] for e in biomarkers_continuous])\n",
    "    biomarkers_continuous = np.array(['WT' if e == '0.0' else \\\n",
    "                           (allele if e == allele else\\\n",
    "                            (e if e == 'na' else 'MT')) for e in biomarkers_continuous])\n",
    "    \n",
    "df['mutation_discrete'] = biomarkers_discrete\n",
    "df['mutation_continuous'] = biomarkers_continuous"
   ]
  },
  {
   "cell_type": "markdown",
   "metadata": {},
   "source": [
    "#### For translocations data"
   ]
  },
  {
   "cell_type": "code",
   "execution_count": null,
   "metadata": {},
   "outputs": [],
   "source": [
    "gene_A = 'BCR'\n",
    "gene_B = 'ABL1'\n",
    "allele = ''\n",
    "\n",
    "translocation_indicator = read_translocations_tumors(gene_A, gene_B, tumor_barcodes)\n",
    "biomarkers_continuous = translocation_indicator\n",
    "biomarkers_discrete = translocation_indicator\n",
    "\n",
    "df['translocation'] = translocation_indicator"
   ]
  },
  {
   "cell_type": "markdown",
   "metadata": {},
   "source": [
    "### Compute drug response for target"
   ]
  },
  {
   "cell_type": "code",
   "execution_count": null,
   "metadata": {},
   "outputs": [],
   "source": [
    "y_tumors = predictor.predict(X_target)\n",
    "y_tumors_en = grid_en.predict(X_target)\n",
    "y_tumors_combat = grid_combat.predict(X_target_corrected)\n",
    "\n",
    "#df['consensus'] = y_tumors\n",
    "df['ridge'] = y_tumors_en\n",
    "df['combat'] = y_tumors_combat\n",
    "\n",
    "if allele is None:\n",
    "    to_keep = ~(np.isnan(biomarkers_continuous))\n",
    "    to_keep_discrete = biomarkers_discrete != 'na'\n",
    "else:\n",
    "    to_keep = biomarkers_continuous != 'na'\n",
    "    to_keep_discrete = biomarkers_discrete != 'na'\n",
    "\n",
    "x = biomarkers_continuous[to_keep]\n",
    "y_precise = y_tumors[to_keep]\n",
    "y_en = y_tumors_en[to_keep]\n",
    "y_combat = y_tumors_combat[to_keep]"
   ]
  },
  {
   "cell_type": "code",
   "execution_count": null,
   "metadata": {},
   "outputs": [],
   "source": [
    "plt.figure(figsize=(12,6))\n",
    "plt.subplot(131)\n",
    "plt.scatter(y_tumors_en, y_tumors)\n",
    "\n",
    "plt.subplot(132)\n",
    "plt.scatter(grid_combat.predict(pca.transform(X_source_response)), predictor.predict(X_source_response))\n",
    "\n",
    "plt.subplot(133)\n",
    "plt.scatter(grid_en.predict(X_source_response), predictor.predict(X_source_response))\n",
    "plt.show()"
   ]
  },
  {
   "cell_type": "code",
   "execution_count": null,
   "metadata": {},
   "outputs": [],
   "source": [
    "print('Ridge: %s'%(np.mean(np.square(grid_en.predict(X_source_response) - y_source))))\n",
    "print('ComBat: %s'%(np.mean(np.square(grid_combat.predict(X_source_response_corrected) - y_source))))\n",
    "print('DA: %s'%(np.mean(np.square(predictor.predict(X_source_response) - y_source))))"
   ]
  },
  {
   "cell_type": "code",
   "execution_count": null,
   "metadata": {},
   "outputs": [],
   "source": [
    "# Takes available gene status\n",
    "gene_status = np.unique(biomarkers_discrete[to_keep_discrete])\n",
    "if allele == '':\n",
    "    gene_status = ['WT','MT']\n",
    "elif allele is not None:\n",
    "    gene_status = ['WT', allele, 'MT']"
   ]
  },
  {
   "cell_type": "markdown",
   "metadata": {},
   "source": [
    "### Mutations"
   ]
  },
  {
   "cell_type": "code",
   "execution_count": null,
   "metadata": {},
   "outputs": [],
   "source": [
    "def plot_mutation_status(df, type_regression, x, y):\n",
    "    ax = plt.figure(figsize=(7,8))\n",
    "\n",
    "    #Plot the different values in a boxplot\n",
    "    bplot = sns.boxplot(data=df[df.mutation_discrete != 'na'],\n",
    "                        x='mutation_discrete', \n",
    "                        y=type_regression,   \n",
    "                        linewidth=2.,\n",
    "                        width=.8,\n",
    "                        whis=[5,95],\n",
    "                        showfliers=False,\n",
    "                        boxprops=dict(alpha=.2))\n",
    "    sns.swarmplot(data=df[df.mutation_discrete != 'na'], x='mutation_discrete', y=type_regression)\n",
    "\n",
    "    # Annotation\n",
    "    if allele == '':\n",
    "        bxpair = [('MT', 'WT')]\n",
    "    elif allele is not None:\n",
    "        bxpair = [(allele, 'MT'), ('WT', allele)]\n",
    "    add_stat_annotation(bplot, data=df[df.mutation_discrete != 'na'],\n",
    "                        x='mutation_discrete', y=type_regression,\n",
    "                        boxPairList=bxpair,\n",
    "                        textFormat='full', loc='inside', verbose=2, fontsize=16)\n",
    "    \n",
    "    plt.xlabel('Mutation', fontsize=17)\n",
    "    plt.yticks(fontsize=15)\n",
    "    plt.ylabel('Log IC50 predicted for tumors', fontsize=17)\n",
    "    plt.tight_layout()\n",
    "    plt.savefig('figures/fig_4_%s_%s_%s_%s_%s_%s_%s_%s_%s%s.png'%(\n",
    "        name,\n",
    "        type_regression,\n",
    "        gene_name,\n",
    "        allele if allele is not None else 'cna',\n",
    "        tumor_surname,\n",
    "        cell_line_type.replace('/',''),\n",
    "        n_pv,\n",
    "        n_factors,\n",
    "       n_samples,\\\n",
    "        '_standardized' if std_unit else ''\n",
    "    ), dpi=300)\n",
    "\n",
    "    plt.show()"
   ]
  },
  {
   "cell_type": "code",
   "execution_count": null,
   "metadata": {},
   "outputs": [],
   "source": [
    "plot_mutation_status(df, 'consensus', x, y_precise)\n",
    "plot_mutation_status(df, 'ridge', x, y_en)\n",
    "plot_mutation_status(df, 'combat', x, y_combat)"
   ]
  },
  {
   "cell_type": "markdown",
   "metadata": {},
   "source": [
    "## Copy Number"
   ]
  },
  {
   "cell_type": "code",
   "execution_count": null,
   "metadata": {},
   "outputs": [],
   "source": [
    "def plot_cna_status(df, type_regression, x, y):\n",
    "    ax = plt.figure(figsize=(7,8))\n",
    "    \n",
    "    #Plot the different values in a boxplot\n",
    "    #df = df.sort_values('CNN_continuous')\n",
    "    bplot = sns.boxplot(data=df[df['CNN_discrete'] != 'na'],\n",
    "                        x='CNN_discrete',\n",
    "                        y=type_regression,\n",
    "                        linewidth=2.,\n",
    "                        width=.8,\n",
    "                        whis=[5,95],\n",
    "                        showfliers=False,\n",
    "                        boxprops=dict(alpha=.2),\n",
    "                        order=['-1', '0', '1', '2'])\n",
    "    sns.swarmplot(data=df[df['CNN_discrete'] != 'na'],\n",
    "                  x='CNN_discrete',\n",
    "                  y=type_regression,\n",
    "                  order=['-1', '0', '1', '2'],\n",
    "                  alpha=.6)\n",
    "    \n",
    "    # Compute correlation\n",
    "    spearman = scipy.stats.spearmanr(x, y)\n",
    "    pearson = scipy.stats.pearsonr(x, y)\n",
    "    \n",
    "    # Annotation\n",
    "    ## /!| TO CHANGE DEPENDENDING ON WHICH TEST YOU WANT TO DO\n",
    "    bxpair = [('-1','0'), ('-1', '1'), ('-1', '2')]\n",
    "    add_stat_annotation(bplot, data=df[df['CNN_discrete'] != 'na'],\n",
    "                        x='CNN_discrete', y=type_regression,\n",
    "                        boxPairList=bxpair,\n",
    "                        textFormat='star', loc='inside', verbose=2, fontsize=16)\n",
    "\n",
    "    plt.title('Spearman correlation: %.3f p-value %.3E \\n Pearson correlation: %.3f p-value %.3E'\\\n",
    "              %(spearman[0], spearman[1], pearson[0], pearson[1]))\n",
    "    plt.xlabel('Mutation', fontsize=17)\n",
    "    plt.yticks(fontsize=15)\n",
    "    plt.ylabel('Log IC50 predicted for tumors', fontsize=17)\n",
    "    plt.tight_layout()\n",
    "    plt.savefig('figures/fig_4_%s_%s_cna_%s_%s_%s_%s_%s_%s%s.png'%(\n",
    "        name,\n",
    "        type_regression,\n",
    "        gene_name,\n",
    "        tumor_surname,\n",
    "        cell_line_type,\n",
    "        n_pv,\n",
    "        n_factors,\n",
    "       n_samples,\\\n",
    "        '_standardized' if std_unit else ''\n",
    "    ), dpi=300)\n",
    "\n",
    "    plt.show()"
   ]
  },
  {
   "cell_type": "code",
   "execution_count": null,
   "metadata": {},
   "outputs": [],
   "source": [
    "plot_cna_status(df, 'consensus', x, y_precise)\n",
    "plot_cna_status(df, 'ridge', x, y_en)\n",
    "plot_cna_status(df, 'combat', x, y_combat)"
   ]
  },
  {
   "cell_type": "markdown",
   "metadata": {},
   "source": [
    "### Translocation"
   ]
  },
  {
   "cell_type": "code",
   "execution_count": null,
   "metadata": {},
   "outputs": [],
   "source": [
    "def plot_translocation_status(df, type_regression, x, y):\n",
    "    ax = plt.figure(figsize=(7,8))\n",
    "    \n",
    "    #Plot the different values in a boxplot\n",
    "    #df = df.sort_values('CNN_continuous')\n",
    "    bplot = sns.boxplot(data=df,\n",
    "                        x='translocation',\n",
    "                        y=type_regression,\n",
    "                        linewidth=2.,\n",
    "                        width=.8,\n",
    "                        whis=[5,95],\n",
    "                        showfliers=False,\n",
    "                        boxprops=dict(alpha=.2))\n",
    "    sns.swarmplot(data=df,\n",
    "                  x='translocation',\n",
    "                  y=type_regression,\n",
    "                  alpha=.6)\n",
    "    \n",
    "    # Annotation\n",
    "    bxpair = [(0., 1.)]\n",
    "    add_stat_annotation(bplot, data=df,\n",
    "                        x='translocation', y=type_regression,\n",
    "                        boxPairList=bxpair,\n",
    "                        textFormat='full', loc='inside', verbose=2)\n",
    "    \n",
    "    plt.xlabel('Translocation', fontsize=17)\n",
    "    plt.ylabel('Log IC50 predicted for tumors', fontsize=17)\n",
    "    plt.tight_layout()\n",
    "    plt.savefig('figures/fig_4_%s_%s_translocation_%s_%s_%s_%s_%s_%s_%s%s.png'%(\n",
    "        name,\n",
    "        type_regression,\n",
    "        gene_A,\n",
    "        gene_B,\n",
    "        tumor_surname,\n",
    "        cell_line_type,\n",
    "        n_pv,\n",
    "        n_factors,\n",
    "       n_samples,\\\n",
    "        '_standardized' if std_unit else ''\n",
    "    ), dpi=300)\n",
    "\n",
    "    plt.show()"
   ]
  },
  {
   "cell_type": "code",
   "execution_count": null,
   "metadata": {},
   "outputs": [],
   "source": [
    "plot_translocation_status(df, 'consensus', x, y_precise)\n",
    "plot_translocation_status(df, 'ridge', x, y_en)\n",
    "plot_translocation_status(df, 'combat', x, y_combat)"
   ]
  }
 ],
 "metadata": {
  "kernelspec": {
   "display_name": "Python (precise_figures)",
   "language": "python",
   "name": "precise_figures"
  },
  "language_info": {
   "codemirror_mode": {
    "name": "ipython",
    "version": 3
   },
   "file_extension": ".py",
   "mimetype": "text/x-python",
   "name": "python",
   "nbconvert_exporter": "python",
   "pygments_lexer": "ipython3",
   "version": "3.7.1"
  }
 },
 "nbformat": 4,
 "nbformat_minor": 2
}
